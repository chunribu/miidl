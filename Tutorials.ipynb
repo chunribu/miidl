{
 "cells": [
  {
   "cell_type": "markdown",
   "source": [
    "# Getting Started\n",
    "\n",
    "In this guide, miidl is used to detect microbial biomarkers for the diagnosis of colorectal cancer.\n",
    "\n",
    "---\n",
    "\n",
    "## Step 1 Install Package\n",
    "\n",
    "```\n",
    "pip install miidl\n",
    "```\n",
    "\n",
    "<!-- or\n",
    "\n",
    "```\n",
    "conda install miidl -c bioconda\n",
    "``` -->\n",
    "\n",
    "---\n",
    "\n",
    "## Step 2 Prepare Data \n",
    "Download data for the follow-up processing. \n",
    "\n",
    "We use a dataset of gut microbial mOTUs from 60 colorectal cancer (CRC) patients and 60 healthy controls (CTR), which is from a [published study](https://www.ncbi.nlm.nih.gov/pmc/articles/PMC7984229/). Specifically, the \"German (DE) study\" in the paper.\n",
    "\n",
    "```\n",
    "wget https://github.com/chunribu/miidl/raw/main/test/CRC.tsv\n",
    "```\n",
    "\n",
    "---\n",
    "\n",
    "## Step 3 Data Analysis\n",
    "Open a Python3 interface and follow these steps:"
   ],
   "metadata": {}
  },
  {
   "cell_type": "markdown",
   "source": [
    "+ Import a primary data container from the package."
   ],
   "metadata": {}
  },
  {
   "cell_type": "code",
   "execution_count": 1,
   "source": [
    "from miidl import MData"
   ],
   "outputs": [],
   "metadata": {}
  },
  {
   "cell_type": "markdown",
   "source": [
    "+ Instantiate the object.\n",
    "    <br>Read data file to the instance named \"md\"."
   ],
   "metadata": {}
  },
  {
   "cell_type": "code",
   "execution_count": 2,
   "source": [
    "md = MData()\n",
    "md.read('CRC.tsv')"
   ],
   "outputs": [],
   "metadata": {}
  },
  {
   "cell_type": "markdown",
   "source": [
    "`CRC.tsv` is a `tab`-delimited text file. By default, the \"Group\" column in the file is auto-detected as labels for a supervised learning.\n",
    "\n",
    "+ Perform quanlity control and discard features with an observation rate less than 0.25."
   ],
   "metadata": {}
  },
  {
   "cell_type": "code",
   "execution_count": 3,
   "source": [
    "md.qc(obs=0.25)"
   ],
   "outputs": [
    {
     "output_type": "stream",
     "name": "stdout",
     "text": [
      "Number of features: from 1484 to 396.\n"
     ]
    }
   ],
   "metadata": {
    "scrolled": false
   }
  },
  {
   "cell_type": "markdown",
   "source": [
    "\n",
    "+ In this case, normalization and imputation are not applied."
   ],
   "metadata": {}
  },
  {
   "cell_type": "code",
   "execution_count": 4,
   "source": [
    "# md.normalize(method='none')\n",
    "# md.impute(method='none')"
   ],
   "outputs": [],
   "metadata": {}
  },
  {
   "cell_type": "markdown",
   "source": [
    "+ Reshape the dataset as a preparation for subsequent analysis.\n",
    "**This step is always necessary.**"
   ],
   "metadata": {}
  },
  {
   "cell_type": "code",
   "execution_count": 5,
   "source": [
    "md.reshape()"
   ],
   "outputs": [],
   "metadata": {
    "scrolled": false
   }
  },
  {
   "cell_type": "markdown",
   "source": [
    "+ Train a CNN model.\n",
    "\n",
    "    In terms of artificial neural networks, an epoch refers to one cycle through the full training dataset. Usually, training a neural network takes more than a few epochs.\n",
    "\n",
    "    `epochs` is set to be 50 in this example.\n"
   ],
   "metadata": {}
  },
  {
   "cell_type": "code",
   "execution_count": 6,
   "source": [
    "md.buildmodel(epochs=50)"
   ],
   "outputs": [
    {
     "output_type": "stream",
     "name": "stdout",
     "text": [
      "CNN(\n",
      "  (conv1): Sequential(\n",
      "    (0): Conv2d(1, 16, kernel_size=(2, 2), stride=(1, 1), padding=(1, 1))\n",
      "    (1): BatchNorm2d(16, eps=1e-05, momentum=0.1, affine=True, track_running_stats=True)\n",
      "    (2): ReLU()\n",
      "    (3): MaxPool2d(kernel_size=2, stride=2, padding=0, dilation=1, ceil_mode=False)\n",
      "  )\n",
      "  (conv2): Sequential(\n",
      "    (0): Conv2d(16, 32, kernel_size=(2, 2), stride=(1, 1), padding=(1, 1))\n",
      "    (1): BatchNorm2d(32, eps=1e-05, momentum=0.1, affine=True, track_running_stats=True)\n",
      "    (2): ReLU()\n",
      "    (3): MaxPool2d(kernel_size=2, stride=2, padding=0, dilation=1, ceil_mode=False)\n",
      "  )\n",
      "  (fc1): Linear(in_features=800, out_features=200, bias=True)\n",
      "  (fc2): Linear(in_features=200, out_features=2, bias=True)\n",
      ")\n",
      "Using cpu device\n",
      "Epoch 1\n",
      "-------------------------------\n",
      "loss: 0.699644  [    0/   84]\n",
      "Test Error: \n",
      " Accuracy: 50.0%, Avg loss: 0.095453 \n",
      "\n",
      "Epoch 2\n",
      "-------------------------------\n",
      "loss: 0.610368  [    0/   84]\n",
      "Test Error: \n",
      " Accuracy: 52.8%, Avg loss: 0.089143 \n",
      "\n",
      "Epoch 3\n",
      "-------------------------------\n",
      "loss: 0.574327  [    0/   84]\n",
      "Test Error: \n",
      " Accuracy: 52.8%, Avg loss: 0.086207 \n",
      "\n",
      "Epoch 4\n",
      "-------------------------------\n",
      "loss: 0.645609  [    0/   84]\n",
      "Test Error: \n",
      " Accuracy: 52.8%, Avg loss: 0.084202 \n",
      "\n",
      "Epoch 5\n",
      "-------------------------------\n",
      "loss: 0.777387  [    0/   84]\n",
      "Test Error: \n",
      " Accuracy: 50.0%, Avg loss: 0.081284 \n",
      "\n",
      "Epoch 6\n",
      "-------------------------------\n",
      "loss: 0.482132  [    0/   84]\n",
      "Test Error: \n",
      " Accuracy: 50.0%, Avg loss: 0.082543 \n",
      "\n",
      "Epoch 7\n",
      "-------------------------------\n",
      "loss: 0.656729  [    0/   84]\n",
      "Test Error: \n",
      " Accuracy: 50.0%, Avg loss: 0.079095 \n",
      "\n",
      "Epoch 8\n",
      "-------------------------------\n",
      "loss: 0.496511  [    0/   84]\n",
      "Test Error: \n",
      " Accuracy: 52.8%, Avg loss: 0.078843 \n",
      "\n",
      "Epoch 9\n",
      "-------------------------------\n",
      "loss: 0.574906  [    0/   84]\n",
      "Test Error: \n",
      " Accuracy: 52.8%, Avg loss: 0.081670 \n",
      "\n",
      "Epoch 10\n",
      "-------------------------------\n",
      "loss: 0.709500  [    0/   84]\n",
      "Test Error: \n",
      " Accuracy: 58.3%, Avg loss: 0.077356 \n",
      "\n",
      "Epoch 11\n",
      "-------------------------------\n",
      "loss: 0.423191  [    0/   84]\n",
      "Test Error: \n",
      " Accuracy: 61.1%, Avg loss: 0.076999 \n",
      "\n",
      "Epoch 12\n",
      "-------------------------------\n",
      "loss: 0.562632  [    0/   84]\n",
      "Test Error: \n",
      " Accuracy: 69.4%, Avg loss: 0.076735 \n",
      "\n",
      "Epoch 13\n",
      "-------------------------------\n",
      "loss: 0.684480  [    0/   84]\n",
      "Test Error: \n",
      " Accuracy: 69.4%, Avg loss: 0.074505 \n",
      "\n",
      "Epoch 14\n",
      "-------------------------------\n",
      "loss: 0.424158  [    0/   84]\n",
      "Test Error: \n",
      " Accuracy: 69.4%, Avg loss: 0.075410 \n",
      "\n",
      "Epoch 15\n",
      "-------------------------------\n",
      "loss: 0.556772  [    0/   84]\n",
      "Test Error: \n",
      " Accuracy: 72.2%, Avg loss: 0.072940 \n",
      "\n",
      "Epoch 16\n",
      "-------------------------------\n",
      "loss: 0.491570  [    0/   84]\n",
      "Test Error: \n",
      " Accuracy: 77.8%, Avg loss: 0.072708 \n",
      "\n",
      "Epoch 17\n",
      "-------------------------------\n",
      "loss: 0.484929  [    0/   84]\n",
      "Test Error: \n",
      " Accuracy: 77.8%, Avg loss: 0.073481 \n",
      "\n",
      "Epoch 18\n",
      "-------------------------------\n",
      "loss: 0.384349  [    0/   84]\n",
      "Test Error: \n",
      " Accuracy: 77.8%, Avg loss: 0.073825 \n",
      "\n",
      "Epoch 19\n",
      "-------------------------------\n",
      "loss: 0.506808  [    0/   84]\n",
      "Test Error: \n",
      " Accuracy: 77.8%, Avg loss: 0.071286 \n",
      "\n",
      "Epoch 20\n",
      "-------------------------------\n",
      "loss: 0.495859  [    0/   84]\n",
      "Test Error: \n",
      " Accuracy: 77.8%, Avg loss: 0.070677 \n",
      "\n",
      "Epoch 21\n",
      "-------------------------------\n",
      "loss: 0.617239  [    0/   84]\n",
      "Test Error: \n",
      " Accuracy: 77.8%, Avg loss: 0.071163 \n",
      "\n",
      "Epoch 22\n",
      "-------------------------------\n",
      "loss: 0.471043  [    0/   84]\n",
      "Test Error: \n",
      " Accuracy: 77.8%, Avg loss: 0.071325 \n",
      "\n",
      "Epoch 23\n",
      "-------------------------------\n",
      "loss: 0.427439  [    0/   84]\n",
      "Test Error: \n",
      " Accuracy: 80.6%, Avg loss: 0.066075 \n",
      "\n",
      "Epoch 24\n",
      "-------------------------------\n",
      "loss: 0.371381  [    0/   84]\n",
      "Test Error: \n",
      " Accuracy: 80.6%, Avg loss: 0.071121 \n",
      "\n",
      "Epoch 25\n",
      "-------------------------------\n",
      "loss: 0.457877  [    0/   84]\n",
      "Test Error: \n",
      " Accuracy: 80.6%, Avg loss: 0.067440 \n",
      "\n",
      "Epoch 26\n",
      "-------------------------------\n",
      "loss: 0.502428  [    0/   84]\n",
      "Test Error: \n",
      " Accuracy: 80.6%, Avg loss: 0.071387 \n",
      "\n",
      "Epoch 27\n",
      "-------------------------------\n",
      "loss: 0.425727  [    0/   84]\n",
      "Test Error: \n",
      " Accuracy: 83.3%, Avg loss: 0.069914 \n",
      "\n",
      "Epoch 28\n",
      "-------------------------------\n",
      "loss: 0.418403  [    0/   84]\n",
      "Test Error: \n",
      " Accuracy: 83.3%, Avg loss: 0.068842 \n",
      "\n",
      "Epoch 29\n",
      "-------------------------------\n",
      "loss: 0.445029  [    0/   84]\n",
      "Test Error: \n",
      " Accuracy: 83.3%, Avg loss: 0.066730 \n",
      "\n",
      "Epoch 30\n",
      "-------------------------------\n",
      "loss: 0.451766  [    0/   84]\n",
      "Test Error: \n",
      " Accuracy: 83.3%, Avg loss: 0.068863 \n",
      "\n",
      "Epoch 31\n",
      "-------------------------------\n",
      "loss: 0.400103  [    0/   84]\n",
      "Test Error: \n",
      " Accuracy: 83.3%, Avg loss: 0.068814 \n",
      "\n",
      "Epoch 32\n",
      "-------------------------------\n",
      "loss: 0.411915  [    0/   84]\n",
      "Test Error: \n",
      " Accuracy: 83.3%, Avg loss: 0.069117 \n",
      "\n",
      "Epoch 33\n",
      "-------------------------------\n",
      "loss: 0.405394  [    0/   84]\n",
      "Test Error: \n",
      " Accuracy: 83.3%, Avg loss: 0.065423 \n",
      "\n",
      "Epoch 34\n",
      "-------------------------------\n",
      "loss: 0.472336  [    0/   84]\n",
      "Test Error: \n",
      " Accuracy: 83.3%, Avg loss: 0.068320 \n",
      "\n",
      "Epoch 35\n",
      "-------------------------------\n",
      "loss: 0.376703  [    0/   84]\n",
      "Test Error: \n",
      " Accuracy: 83.3%, Avg loss: 0.067272 \n",
      "\n",
      "Epoch 36\n",
      "-------------------------------\n",
      "loss: 0.451097  [    0/   84]\n",
      "Test Error: \n",
      " Accuracy: 83.3%, Avg loss: 0.064173 \n",
      "\n",
      "Epoch 37\n",
      "-------------------------------\n",
      "loss: 0.430624  [    0/   84]\n",
      "Test Error: \n",
      " Accuracy: 83.3%, Avg loss: 0.067412 \n",
      "\n",
      "Epoch 38\n",
      "-------------------------------\n",
      "loss: 0.259466  [    0/   84]\n",
      "Test Error: \n",
      " Accuracy: 83.3%, Avg loss: 0.065663 \n",
      "\n",
      "Epoch 39\n",
      "-------------------------------\n",
      "loss: 0.317108  [    0/   84]\n",
      "Test Error: \n",
      " Accuracy: 83.3%, Avg loss: 0.064227 \n",
      "\n",
      "Epoch 40\n",
      "-------------------------------\n",
      "loss: 0.505002  [    0/   84]\n",
      "Test Error: \n",
      " Accuracy: 83.3%, Avg loss: 0.066498 \n",
      "\n",
      "Epoch 41\n",
      "-------------------------------\n",
      "loss: 0.304471  [    0/   84]\n",
      "Test Error: \n",
      " Accuracy: 83.3%, Avg loss: 0.070479 \n",
      "\n",
      "Epoch 42\n",
      "-------------------------------\n",
      "loss: 0.451194  [    0/   84]\n",
      "Test Error: \n",
      " Accuracy: 83.3%, Avg loss: 0.061819 \n",
      "\n",
      "Epoch 43\n",
      "-------------------------------\n",
      "loss: 0.488387  [    0/   84]\n",
      "Test Error: \n",
      " Accuracy: 83.3%, Avg loss: 0.062587 \n",
      "\n",
      "Epoch 44\n",
      "-------------------------------\n",
      "loss: 0.320291  [    0/   84]\n",
      "Test Error: \n",
      " Accuracy: 83.3%, Avg loss: 0.067238 \n",
      "\n",
      "Epoch 45\n",
      "-------------------------------\n",
      "loss: 0.278083  [    0/   84]\n",
      "Test Error: \n",
      " Accuracy: 83.3%, Avg loss: 0.065476 \n",
      "\n",
      "Epoch 46\n",
      "-------------------------------\n",
      "loss: 0.497170  [    0/   84]\n",
      "Test Error: \n",
      " Accuracy: 83.3%, Avg loss: 0.063623 \n",
      "\n",
      "Epoch 47\n",
      "-------------------------------\n",
      "loss: 0.453339  [    0/   84]\n",
      "Test Error: \n",
      " Accuracy: 83.3%, Avg loss: 0.065084 \n",
      "\n",
      "Epoch 48\n",
      "-------------------------------\n",
      "loss: 0.217465  [    0/   84]\n",
      "Test Error: \n",
      " Accuracy: 86.1%, Avg loss: 0.064950 \n",
      "\n",
      "Epoch 49\n",
      "-------------------------------\n",
      "loss: 0.386396  [    0/   84]\n",
      "Test Error: \n",
      " Accuracy: 86.1%, Avg loss: 0.068682 \n",
      "\n",
      "Epoch 50\n",
      "-------------------------------\n",
      "loss: 0.236021  [    0/   84]\n",
      "Test Error: \n",
      " Accuracy: 86.1%, Avg loss: 0.072722 \n",
      "\n",
      "Done!\n"
     ]
    }
   ],
   "metadata": {
    "scrolled": false
   }
  },
  {
   "cell_type": "markdown",
   "source": [
    "With an accuracy over 86%, the model fits well.<br>\n",
    "\n",
    "+ Calculate importance values of all features (species) using the default algorithm \"Integrated Gradients\",\n",
    "\n",
    "    where `method` can be one of: \n",
    "    [ IntegratedGradients, Saliency, DeepLift, DeepLiftShap, InputXGradient, GuidedBackprop, GuidedGradCam, Deconvolution, FeaturePermutation, KernelShap, LRP ],\n",
    "\n",
    "    see [Captum](https://captum.ai/api/attribution.html) for detailed information about the algorithms."
   ],
   "metadata": {}
  },
  {
   "cell_type": "code",
   "execution_count": 7,
   "source": [
    "md.explain(target='CRC') # Contribution to the group/class CRC"
   ],
   "outputs": [
    {
     "output_type": "display_data",
     "data": {
      "image/png": "[encoded data removed]",
      "text/plain": [
       "<Figure size 432x288 with 1 Axes>"
      ]
     },
     "metadata": {
      "needs_background": "light"
     }
    }
   ],
   "metadata": {
    "scrolled": false
   }
  },
  {
   "cell_type": "markdown",
   "source": [
    "Fig. 1 20 features with the biggest average importances<br><br>\n",
    "\n",
    "+ Save results."
   ],
   "metadata": {}
  },
  {
   "cell_type": "code",
   "execution_count": 8,
   "source": [
    "md.save()"
   ],
   "outputs": [
    {
     "output_type": "display_data",
     "data": {
      "image/png": "[encoded data removed]",
      "text/plain": [
       "<Figure size 432x432 with 2 Axes>"
      ]
     },
     "metadata": {
      "needs_background": "light"
     }
    }
   ],
   "metadata": {}
  },
  {
   "cell_type": "markdown",
   "source": [
    "Fig. 2 Importance values of all features<br><br>\n",
    "\n",
    "---\n",
    "\n",
    "## Step 4 Check Results\n",
    "After all the steps above, there are 3 files generated under the working path:\n",
    "\n",
    "- `FeatureImportance.tsv`: <br>\n",
    "    A `tab`-delimited text file containing importance, each column represents a feature (species) and each row sample (observer).<br><br>\n",
    "\n",
    "- `FeatureImportances.png` (Fig. 2) : <br>\n",
    "    Importance values of features are plotted as a heatmap according to the order in `FeatureImportance.tsv` row by row.<br><br>\n",
    "\n",
    "- `TOP20_KeyFeatures.png` (Fig. 1) : <br>\n",
    "    Mean importance values are calculated and sorted. The 20 features with the largest absolute values are plotted in the bar chart.<br><br><br>\n",
    "    \n",
    "\n",
    "`___`\n",
    "\n",
    "\n",
    "Tips: Since you are now more familiar with miidl, why not take a look at the properties and methods of `md` by simply enter `dir(md)` 🎃"
   ],
   "metadata": {}
  }
 ],
 "metadata": {
  "kernelspec": {
   "name": "python3",
   "display_name": "Python 3.8.8 64-bit ('qiime2': conda)"
  },
  "language_info": {
   "codemirror_mode": {
    "name": "ipython",
    "version": 3
   },
   "file_extension": ".py",
   "mimetype": "text/x-python",
   "name": "python",
   "nbconvert_exporter": "python",
   "pygments_lexer": "ipython3",
   "version": "3.8.8"
  },
  "interpreter": {
   "hash": "b311978d623f591a1093904eb4d74d36792f2132a02f21df1542d6248dc4cfb8"
  }
 },
 "nbformat": 4,
 "nbformat_minor": 5
}